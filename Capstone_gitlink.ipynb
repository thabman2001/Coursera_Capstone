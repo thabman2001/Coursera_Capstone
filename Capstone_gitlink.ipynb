{
    "cells": [
        {
            "metadata": {
                "collapsed": true
            },
            "cell_type": "markdown",
            "source": "https://dataplatform.cloud.ibm.com/analytics/notebooks/v2/19716f4e-8617-407f-b1ca-05a56523dc47/view?access_token=63f1ef7a782cda190a0090b4fc6fcc019d503e60f694fc1a5cf49ef7c8e46b83"
        }
    ],
    "metadata": {
        "kernelspec": {
            "name": "python3",
            "display_name": "Python 3.7",
            "language": "python"
        },
        "language_info": {
            "name": "python",
            "version": "3.7.9",
            "mimetype": "text/x-python",
            "codemirror_mode": {
                "name": "ipython",
                "version": 3
            },
            "pygments_lexer": "ipython3",
            "nbconvert_exporter": "python",
            "file_extension": ".py"
        }
    },
    "nbformat": 4,
    "nbformat_minor": 1
}